{
 "cells": [
  {
   "cell_type": "markdown",
   "id": "27c7af80-1866-4890-beac-ec601d3924b7",
   "metadata": {},
   "source": [
    "Python string-assigment 2"
   ]
  },
  {
   "cell_type": "markdown",
   "id": "004a2675-ec50-4b1a-b802-d014e2b38c69",
   "metadata": {},
   "source": [
    "Q1-\n",
    "answer:"
   ]
  },
  {
   "cell_type": "code",
   "execution_count": 1,
   "id": "67870021-8819-437a-abc5-30d816a07524",
   "metadata": {},
   "outputs": [],
   "source": [
    "x=\"'\""
   ]
  },
  {
   "cell_type": "code",
   "execution_count": 2,
   "id": "80db42a3-d65b-4ce6-a49e-810fb3f9a2d4",
   "metadata": {},
   "outputs": [
    {
     "data": {
      "text/plain": [
       "str"
      ]
     },
     "execution_count": 2,
     "metadata": {},
     "output_type": "execute_result"
    }
   ],
   "source": [
    "type(x)"
   ]
  },
  {
   "cell_type": "code",
   "execution_count": 3,
   "id": "a6d93d51-a52d-4720-9cd4-df4f809a00fe",
   "metadata": {},
   "outputs": [
    {
     "data": {
      "text/plain": [
       "\"'\""
      ]
     },
     "execution_count": 3,
     "metadata": {},
     "output_type": "execute_result"
    }
   ],
   "source": [
    "x"
   ]
  },
  {
   "cell_type": "markdown",
   "id": "4178a8d4-65af-4539-9f50-60e828d906eb",
   "metadata": {},
   "source": [
    "Q2-\n",
    "answer:here, 'a' is a string type variable because it is declared inside quotes and we declare string type variables in python within quotes."
   ]
  },
  {
   "cell_type": "markdown",
   "id": "ab93a825-e2fe-446a-a81e-93815b4c01d3",
   "metadata": {},
   "source": [
    "Q3\n",
    "answer:"
   ]
  },
  {
   "cell_type": "code",
   "execution_count": 8,
   "id": "ce0b60ca-74b8-4384-9b87-5ce50fee162f",
   "metadata": {},
   "outputs": [],
   "source": [
    "s1='Welcome to Python foundation course'"
   ]
  },
  {
   "cell_type": "code",
   "execution_count": 11,
   "id": "db19d914-4184-4718-a375-8c6341c0b5ec",
   "metadata": {},
   "outputs": [
    {
     "data": {
      "text/plain": [
       "1"
      ]
     },
     "execution_count": 11,
     "metadata": {},
     "output_type": "execute_result"
    }
   ],
   "source": [
    "s1.find('e')"
   ]
  },
  {
   "cell_type": "code",
   "execution_count": 12,
   "id": "6a4c8e59-5bac-41b0-8839-7a58c123c26f",
   "metadata": {},
   "outputs": [
    {
     "data": {
      "text/plain": [
       "3"
      ]
     },
     "execution_count": 12,
     "metadata": {},
     "output_type": "execute_result"
    }
   ],
   "source": [
    "s1.count('t')"
   ]
  },
  {
   "cell_type": "code",
   "execution_count": 19,
   "id": "352cb86d-f0cc-4680-8c1d-0e3dd1db90e2",
   "metadata": {},
   "outputs": [
    {
     "data": {
      "text/plain": [
       "35"
      ]
     },
     "execution_count": 19,
     "metadata": {},
     "output_type": "execute_result"
    }
   ],
   "source": [
    "len(s1)"
   ]
  },
  {
   "cell_type": "code",
   "execution_count": 21,
   "id": "b4dd4f0c-8335-4094-a026-17a9bc16c4fa",
   "metadata": {},
   "outputs": [],
   "source": [
    "#Concatenation\n",
    "x='python'\n",
    "y='foundation'"
   ]
  },
  {
   "cell_type": "code",
   "execution_count": 22,
   "id": "8b14dc13-aabd-471f-a4ad-183a505f74ae",
   "metadata": {},
   "outputs": [
    {
     "data": {
      "text/plain": [
       "'pythonfoundation'"
      ]
     },
     "execution_count": 22,
     "metadata": {},
     "output_type": "execute_result"
    }
   ],
   "source": [
    "x+y"
   ]
  },
  {
   "cell_type": "markdown",
   "id": "e55ed58d-4eee-4e37-9747-cb66fdf9e2ce",
   "metadata": {},
   "source": [
    "Q5:"
   ]
  },
  {
   "cell_type": "code",
   "execution_count": 44,
   "id": "e3f7bf98-b6f8-44ca-9cd7-33510d45a0b8",
   "metadata": {},
   "outputs": [],
   "source": [
    "#answer:\n",
    "z=180"
   ]
  },
  {
   "cell_type": "code",
   "execution_count": 45,
   "id": "7fc1506b-c191-4eed-bf17-fb35d92a6956",
   "metadata": {},
   "outputs": [
    {
     "data": {
      "text/plain": [
       "int"
      ]
     },
     "execution_count": 45,
     "metadata": {},
     "output_type": "execute_result"
    }
   ],
   "source": [
    "type(z)"
   ]
  },
  {
   "cell_type": "code",
   "execution_count": 46,
   "id": "706fd48e-7ab0-46ad-81ae-668563ef7087",
   "metadata": {},
   "outputs": [],
   "source": [
    "z='180'"
   ]
  },
  {
   "cell_type": "code",
   "execution_count": 50,
   "id": "4f8d3c1b-82c4-42a5-804f-f9934f58c7ad",
   "metadata": {},
   "outputs": [
    {
     "data": {
      "text/plain": [
       "str"
      ]
     },
     "execution_count": 50,
     "metadata": {},
     "output_type": "execute_result"
    }
   ],
   "source": [
    "type(z)"
   ]
  },
  {
   "cell_type": "markdown",
   "id": "0098a5bf-6881-4045-9449-839e9ef85de8",
   "metadata": {},
   "source": [
    "Q4"
   ]
  },
  {
   "cell_type": "code",
   "execution_count": 53,
   "id": "eccd3f78-e426-4c8e-8526-21bbc35e7988",
   "metadata": {},
   "outputs": [],
   "source": [
    "a2='PanaJi@12566'"
   ]
  },
  {
   "cell_type": "code",
   "execution_count": 58,
   "id": "79bc5af4-6ca5-4538-b139-6d23c95513bf",
   "metadata": {},
   "outputs": [
    {
     "data": {
      "text/plain": [
       "2"
      ]
     },
     "execution_count": 58,
     "metadata": {},
     "output_type": "execute_result"
    }
   ],
   "source": [
    "#total no. of variables in lowercase\n",
    "a2.count('a')"
   ]
  },
  {
   "cell_type": "code",
   "execution_count": 59,
   "id": "8772bf32-ac6b-4a0e-95ba-ad8523dc9c65",
   "metadata": {},
   "outputs": [
    {
     "data": {
      "text/plain": [
       "1"
      ]
     },
     "execution_count": 59,
     "metadata": {},
     "output_type": "execute_result"
    }
   ],
   "source": [
    "a2.count('n')"
   ]
  },
  {
   "cell_type": "code",
   "execution_count": 60,
   "id": "d96e42da-ac40-4b0d-aa12-3225e58242d6",
   "metadata": {},
   "outputs": [
    {
     "data": {
      "text/plain": [
       "1"
      ]
     },
     "execution_count": 60,
     "metadata": {},
     "output_type": "execute_result"
    }
   ],
   "source": [
    "a2.count('i')"
   ]
  },
  {
   "cell_type": "code",
   "execution_count": 67,
   "id": "4f09dcc1-ee97-483a-bc30-9e98647e4277",
   "metadata": {},
   "outputs": [
    {
     "data": {
      "text/plain": [
       "4"
      ]
     },
     "execution_count": 67,
     "metadata": {},
     "output_type": "execute_result"
    }
   ],
   "source": [
    "a2.count('a')+a2.count('n')+a2.count('i')"
   ]
  },
  {
   "cell_type": "code",
   "execution_count": 61,
   "id": "1df249e9-9110-461b-be0e-7da6574f31b1",
   "metadata": {},
   "outputs": [
    {
     "data": {
      "text/plain": [
       "1"
      ]
     },
     "execution_count": 61,
     "metadata": {},
     "output_type": "execute_result"
    }
   ],
   "source": [
    "#total no of variables in uppercase\n",
    "a2.count('P')"
   ]
  },
  {
   "cell_type": "code",
   "execution_count": 62,
   "id": "7bd18da3-f8cc-4e9f-b5fc-9faf4d43bd28",
   "metadata": {},
   "outputs": [
    {
     "data": {
      "text/plain": [
       "1"
      ]
     },
     "execution_count": 62,
     "metadata": {},
     "output_type": "execute_result"
    }
   ],
   "source": [
    "a2.count('J')"
   ]
  },
  {
   "cell_type": "code",
   "execution_count": 68,
   "id": "6c880e54-f7d3-49c1-bc07-7c1c09aecfdc",
   "metadata": {},
   "outputs": [
    {
     "data": {
      "text/plain": [
       "2"
      ]
     },
     "execution_count": 68,
     "metadata": {},
     "output_type": "execute_result"
    }
   ],
   "source": [
    "a2.count('P')+a2.count('J')"
   ]
  },
  {
   "cell_type": "code",
   "execution_count": 77,
   "id": "b1911eb9-633c-446b-be0e-0afc51afff50",
   "metadata": {},
   "outputs": [
    {
     "data": {
      "text/plain": [
       "'12566'"
      ]
     },
     "execution_count": 77,
     "metadata": {},
     "output_type": "execute_result"
    }
   ],
   "source": [
    "#total no. of numeric in string\n",
    "a2[7:12]"
   ]
  },
  {
   "cell_type": "code",
   "execution_count": 85,
   "id": "d8f2ed76-4dfa-448e-9cc6-740b34a65c1a",
   "metadata": {},
   "outputs": [
    {
     "data": {
      "text/plain": [
       "8"
      ]
     },
     "execution_count": 85,
     "metadata": {},
     "output_type": "execute_result"
    }
   ],
   "source": [
    "len('a2[1:-7]')"
   ]
  },
  {
   "cell_type": "code",
   "execution_count": null,
   "id": "1de1de34-6367-4737-832a-2a9f50e6af98",
   "metadata": {},
   "outputs": [],
   "source": []
  }
 ],
 "metadata": {
  "kernelspec": {
   "display_name": "Python 3 (ipykernel)",
   "language": "python",
   "name": "python3"
  },
  "language_info": {
   "codemirror_mode": {
    "name": "ipython",
    "version": 3
   },
   "file_extension": ".py",
   "mimetype": "text/x-python",
   "name": "python",
   "nbconvert_exporter": "python",
   "pygments_lexer": "ipython3",
   "version": "3.10.8"
  }
 },
 "nbformat": 4,
 "nbformat_minor": 5
}
